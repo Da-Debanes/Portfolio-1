{
  "nbformat": 4,
  "nbformat_minor": 0,
  "metadata": {
    "colab": {
      "provenance": [],
      "authorship_tag": "ABX9TyOpKaBXJxkxMrjV8Zy/HYMQ",
      "include_colab_link": true
    },
    "kernelspec": {
      "name": "python3",
      "display_name": "Python 3"
    },
    "language_info": {
      "name": "python"
    }
  },
  "cells": [
    {
      "cell_type": "markdown",
      "metadata": {
        "id": "view-in-github",
        "colab_type": "text"
      },
      "source": [
        "<a href=\"https://colab.research.google.com/github/Da-Debanes/Portfolio-1/blob/main/FSC_Group_Allocation.ipynb\" target=\"_parent\"><img src=\"https://colab.research.google.com/assets/colab-badge.svg\" alt=\"Open In Colab\"/></a>"
      ]
    },
    {
      "cell_type": "markdown",
      "source": [
        "#**OBJECTIVE**\n",
        "\n",
        "###**Input:**\n",
        "A data set with participants' information in it.\n",
        "\n",
        "###**Output:**\n",
        "\n",
        "People assigned into groupings based on personality, availability and gender.\n",
        "\n",
        " This information will be in a sheet where the first tab is a summary of the peoples name in each group of all groups and the subsequent tabs are the full information of everyone who is in a particular group with one tab per group"
      ],
      "metadata": {
        "id": "NLVaz7TxOyek"
      }
    },
    {
      "cell_type": "markdown",
      "source": [
        "## 1. Imported Libraries\n",
        "We will refer to the Pandas, SQL and CSV libraries in order to facilitate the code."
      ],
      "metadata": {
        "id": "85qHTCE0Q3GL"
      }
    },
    {
      "cell_type": "code",
      "execution_count": 338,
      "metadata": {
        "id": "B1kwAmERQwaE"
      },
      "outputs": [],
      "source": [
        "import pandas as pd\n",
        "import random\n",
        "from collections import deque\n",
        "#!pip install XlsxWriter\n",
        "import math\n"
      ]
    },
    {
      "cell_type": "markdown",
      "source": [
        "## 2. File **Input**\n",
        "Remember to specify the input file name. Should be a csv."
      ],
      "metadata": {
        "id": "2BTEfYhDOqom"
      }
    },
    {
      "cell_type": "code",
      "source": [
        "fayil = \"FSC Signups.csv\"\n",
        "df = pd.read_csv(fayil)"
      ],
      "metadata": {
        "id": "oScSiY_aQyjC"
      },
      "execution_count": 340,
      "outputs": []
    },
    {
      "cell_type": "markdown",
      "source": [
        "## 4. Grouping\n",
        "Participants will thus be assigned into groups based on what their personality and gender is"
      ],
      "metadata": {
        "id": "CjwNGAfVRkqq"
      }
    },
    {
      "cell_type": "code",
      "source": [
        "df[\"Personality\"] = df[\"Personality\"].fillna(\"M XXX\")\n",
        "df[\"Pre-U Education\"] =  df[\"Pre-U Education\"].fillna(\"Others\")\n",
        "\n",
        "personalityname = \"Personality\"\n",
        "gendername = \"Gender\"\n",
        "\n",
        "df[\"Personality_Gender\"] = df[personalityname] + \"-\" + df[gendername] + \"-\" + df[\"Course of study :\"]\n",
        "\n",
        "# Group by personality\n",
        "personality_groups = {\n",
        "    ptype: df[df[\"Personality_Gender\"] == ptype].copy()\n",
        "    for ptype in df[\"Personality_Gender\"].unique()\n",
        "}\n"
      ],
      "metadata": {
        "id": "yFWoM8qwSF7o"
      },
      "execution_count": 341,
      "outputs": []
    },
    {
      "cell_type": "code",
      "source": [
        "df[\"Personality_Gender\"].value_counts().sum()"
      ],
      "metadata": {
        "colab": {
          "base_uri": "https://localhost:8080/"
        },
        "id": "cp1mf4JP3kNP",
        "outputId": "23b91915-1e7d-4014-f760-ae6d81bdbdf7"
      },
      "execution_count": 342,
      "outputs": [
        {
          "output_type": "execute_result",
          "data": {
            "text/plain": [
              "np.int64(228)"
            ]
          },
          "metadata": {},
          "execution_count": 342
        }
      ]
    },
    {
      "cell_type": "markdown",
      "source": [
        "##3. Assigning Genders\n"
      ],
      "metadata": {
        "id": "alOgJl6uPDpa"
      }
    },
    {
      "cell_type": "code",
      "source": [
        "male_df = df[df['Gender'] == \"Male\"]\n",
        "female_df = df[df['Gender'] == \"Female\"]\n",
        "\n",
        "personality_groups_male = {\n",
        "    ptype: male_df[male_df[\"Personality_Gender\"] == ptype].copy()\n",
        "    for ptype in male_df[\"Personality_Gender\"].unique()\n",
        "}\n",
        "\n",
        "personality_groups_female = {\n",
        "    ptype: female_df[female_df[\"Personality_Gender\"] == ptype].copy()\n",
        "    for ptype in female_df[\"Personality_Gender\"].unique()\n",
        "}"
      ],
      "metadata": {
        "id": "TM40VRFPRXA7"
      },
      "execution_count": 343,
      "outputs": []
    },
    {
      "cell_type": "code",
      "source": [
        "male_df['Personality_Gender'].value_counts().sum()"
      ],
      "metadata": {
        "colab": {
          "base_uri": "https://localhost:8080/"
        },
        "id": "WQdqPs4iMm3a",
        "outputId": "67727c76-380f-4855-cd46-2744236678c0"
      },
      "execution_count": 344,
      "outputs": [
        {
          "output_type": "execute_result",
          "data": {
            "text/plain": [
              "np.int64(179)"
            ]
          },
          "metadata": {},
          "execution_count": 344
        }
      ]
    },
    {
      "cell_type": "markdown",
      "source": [
        "##5. Aggregate Probability Distribution"
      ],
      "metadata": {
        "id": "OgfFd4lfSeTc"
      }
    },
    {
      "cell_type": "code",
      "source": [
        "distribution = df[\"Personality_Gender\"].value_counts(normalize=True)"
      ],
      "metadata": {
        "id": "w9b64iAnS7XL"
      },
      "execution_count": 345,
      "outputs": []
    },
    {
      "cell_type": "markdown",
      "source": [
        "##6. Grouping\n",
        "A for loop goes through all the data sets and put the id of a person to their corresponding personality-gender set. Then given the probability distribution, the sorting will select a set to get a single person from and remove that person from their set"
      ],
      "metadata": {
        "id": "QZ7_3M5vVn6k"
      }
    },
    {
      "cell_type": "code",
      "source": [
        "id_queues_by_group_female.clear()\n",
        "id_queues_by_group_male.clear()\n",
        "\n",
        "id_queues_by_group_male = {\n",
        "    ptype: deque(random.sample(df[\"Id\"].tolist(), len(df)))\n",
        "    for ptype, df in personality_groups_male.items()\n",
        "}\n",
        "\n",
        "id_queues_by_group_female = {\n",
        "    ptype: deque(random.sample(group_df[\"Id\"].tolist(), len(group_df)))\n",
        "    for ptype, group_df in personality_groups_female.items()\n",
        "}"
      ],
      "metadata": {
        "id": "pnMWJxJfW_SD"
      },
      "execution_count": 346,
      "outputs": []
    },
    {
      "cell_type": "code",
      "source": [
        "sum(len(queue) for queue in id_queues_by_group_male.values())"
      ],
      "metadata": {
        "colab": {
          "base_uri": "https://localhost:8080/"
        },
        "id": "fg7bNtmMWzzW",
        "outputId": "4f77b629-bf91-41a9-adfe-d4b24acda34e"
      },
      "execution_count": 347,
      "outputs": [
        {
          "output_type": "execute_result",
          "data": {
            "text/plain": [
              "179"
            ]
          },
          "metadata": {},
          "execution_count": 347
        }
      ]
    },
    {
      "cell_type": "code",
      "source": [
        "def draw_person(id_queues_by_group):\n",
        "    group_names = list(id_queues_by_group.keys())\n",
        "    weights = [len(q) for q in id_queues_by_group.values()]\n",
        "\n",
        "    if not group_names or sum(weights) == 0:\n",
        "        return None, None\n",
        "\n",
        "    selected_group = random.choices(group_names, weights=weights, k=1)[0]\n",
        "    person_id = id_queues_by_group[selected_group].popleft()\n",
        "\n",
        "    if not id_queues_by_group[selected_group]:\n",
        "        del id_queues_by_group[selected_group]\n",
        "\n",
        "    return selected_group, person_id\n"
      ],
      "metadata": {
        "id": "1xPk51hnX2Nk"
      },
      "execution_count": 348,
      "outputs": []
    },
    {
      "cell_type": "code",
      "source": [
        "group_size = 10  # Replace with your desired group size\n",
        "total_students = len(df)\n",
        "n_groups = total_students // group_size + (1 if total_students % group_size > 0 else 0)\n",
        "\n",
        "groups = []\n",
        "id_to_group = {}\n",
        "\n",
        "male_ratio = sum(len(queue) for queue in id_queues_by_group_male.values()) / total_students\n",
        "female_ratio = sum(len(queue) for queue in id_queues_by_group_female.values()) / total_students\n",
        "\n",
        "males_per_group = math.floor(male_ratio * group_size + 0.5)\n",
        "females_per_group = group_size - males_per_group\n",
        "\n",
        "for i in range(n_groups - 1):\n",
        "    group_ids = []\n",
        "\n",
        "    for j in range(females_per_group):\n",
        "        k, person_id = draw_person(id_queues_by_group_female)\n",
        "        if person_id:\n",
        "            group_ids.append(person_id)\n",
        "            id_to_group[person_id] = i + 1\n",
        "\n",
        "    for j in range(males_per_group):\n",
        "        k, person_id = draw_person(id_queues_by_group_male)\n",
        "        if person_id:\n",
        "            group_ids.append(person_id)\n",
        "            id_to_group[person_id] = i + 1\n",
        "\n",
        "    groups.append(group_ids)\n",
        "\n",
        "remaining_ids = []\n",
        "for group_dict in [id_queues_by_group_male, id_queues_by_group_female]:\n",
        "    for queue in group_dict.values():\n",
        "        remaining_ids.extend(queue)\n",
        "for i in remaining_ids:\n",
        "    id_to_group[i] = n_groups\n",
        "groups.append(remaining_ids)"
      ],
      "metadata": {
        "id": "BmXgA7abXZ6F"
      },
      "execution_count": 349,
      "outputs": []
    },
    {
      "cell_type": "code",
      "source": [
        "gsum = sum(len(group) for group in groups)\n",
        "print(gsum)\n",
        "print(groups[-1])\n",
        "print(id_queues_by_group_female)\n",
        "print(id_queues_by_group_male)"
      ],
      "metadata": {
        "colab": {
          "base_uri": "https://localhost:8080/"
        },
        "id": "wf3Lgr2XBaxg",
        "outputId": "7095d2ec-810c-4b50-d0a7-ea3cae890c41"
      },
      "execution_count": 350,
      "outputs": [
        {
          "output_type": "stream",
          "name": "stdout",
          "text": [
            "228\n",
            "[12, 144, 168, 183, 174, 159, 157, 125]\n",
            "{'I XXX-Female-Business Analytics': deque([183]), 'E XXX-Female-Business Analytics': deque([174]), 'I XXX-Female-Computer Science': deque([159, 157]), 'I XXX-Female-Information Security': deque([125])}\n",
            "{'M XXX-Male-Computer Science': deque([12]), 'E XXX-Male-Business Analytics': deque([144]), 'I XXX-Male-Information Systems': deque([168])}\n"
          ]
        }
      ]
    },
    {
      "cell_type": "markdown",
      "source": [
        "##7. Writing the group allocations"
      ],
      "metadata": {
        "id": "S5uPkZAuXVhY"
      }
    },
    {
      "cell_type": "code",
      "source": [
        "id_to_group = {}\n",
        "\n",
        "for i in range(n_groups):\n",
        "    for id in groups[i]:\n",
        "        id_to_group[id] = i + 1\n",
        "\n",
        "df[\"Ori Grouping\"] = df[\"Id\"].map(id_to_group)"
      ],
      "metadata": {
        "id": "3IAJon4Ua8-W"
      },
      "execution_count": 351,
      "outputs": []
    },
    {
      "cell_type": "code",
      "source": [
        "print(\"Unassigned:\", df[\"Ori Grouping\"].isna().sum())\n"
      ],
      "metadata": {
        "id": "_Sh7inwSAHFS",
        "colab": {
          "base_uri": "https://localhost:8080/"
        },
        "outputId": "88586a79-c42f-4f66-90ec-5b82c9219588"
      },
      "execution_count": 352,
      "outputs": [
        {
          "output_type": "stream",
          "name": "stdout",
          "text": [
            "Unassigned: 0\n"
          ]
        }
      ]
    },
    {
      "cell_type": "markdown",
      "source": [
        "##8. Writing into Excel"
      ],
      "metadata": {
        "id": "Owqy1LDNopAr"
      }
    },
    {
      "cell_type": "code",
      "source": [
        "#TODO Replace these with your actual column names\n",
        "summary_cols = [\"Ori Grouping\", \"Name\", \"Student/Application Number\", \"Telegram handle (eg @shr221)\"]\n",
        "shirt_size_col = \"Shirt Size\"\n",
        "Maj_col = \"Course of study :\"\n",
        "\n",
        "summary_df = df[summary_cols].sort_values(by=\"Ori Grouping\")\n",
        "\n",
        "shirt_summary = df.groupby([\"Ori Grouping\", shirt_size_col]).size().unstack(fill_value=0)\n",
        "gender_summary = df.groupby([\"Ori Grouping\", \"Gender\"]).size().unstack(fill_value=0)\n",
        "Maj_summary = df.groupby([\"Ori Grouping\", Maj_col]).size().unstack(fill_value=0)\n",
        "\n",
        "with pd.ExcelWriter(\"grouped_participants.xlsx\", engine=\"xlsxwriter\") as writer:\n",
        "\n",
        "    summary_df.to_excel(writer, sheet_name=\"Summary\", index=False)\n",
        "    shirt_summary.to_excel(writer, sheet_name=\"Shirt Size Summary\")\n",
        "    gender_summary.to_excel(writer, sheet_name=\"Gender Summary\")\n",
        "    Maj_summary.to_excel(writer, sheet_name=\"Maj Summary\")\n",
        "\n",
        "    for group_name, group_df in df.groupby(\"Ori Grouping\"):\n",
        "        sheet_name = str(group_name)\n",
        "        group_df.to_excel(writer, sheet_name=sheet_name, index=False)\n",
        "\n"
      ],
      "metadata": {
        "id": "7BbSrxaXl4rS"
      },
      "execution_count": 357,
      "outputs": []
    }
  ]
}